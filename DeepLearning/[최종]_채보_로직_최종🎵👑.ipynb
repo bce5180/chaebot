{
  "cells": [
    {
      "cell_type": "markdown",
      "source": [
        "# 구글드라이브 설정 부분"
      ],
      "metadata": {
        "id": "5ThR18rXcdOa"
      }
    },
    {
      "cell_type": "code",
      "execution_count": null,
      "metadata": {
        "colab": {
          "base_uri": "https://localhost:8080/"
        },
        "id": "pdq41uhoFI6S",
        "outputId": "ea9a9bee-8d10-41e1-acf3-6ab04cc3d98f"
      },
      "outputs": [
        {
          "output_type": "stream",
          "name": "stdout",
          "text": [
            "Mounted at /content/drive\n"
          ]
        }
      ],
      "source": [
        "from google.colab import drive\n",
        "\n",
        "drive.mount('/content/drive', force_remount=True)"
      ]
    },
    {
      "cell_type": "code",
      "execution_count": null,
      "metadata": {
        "colab": {
          "base_uri": "https://localhost:8080/"
        },
        "id": "3kTA5gVaFUUg",
        "outputId": "3d755d86-66c1-4556-adff-dfbd89f983b0"
      },
      "outputs": [
        {
          "output_type": "stream",
          "name": "stdout",
          "text": [
            "/content/drive/MyDrive/채봇/테스트\n"
          ]
        }
      ],
      "source": [
        "cd /content/drive/MyDrive/채봇/테스트"
      ]
    },
    {
      "cell_type": "markdown",
      "metadata": {
        "id": "2fHGWbxmYttH"
      },
      "source": [
        "# 라이브러리 다운"
      ]
    },
    {
      "cell_type": "code",
      "execution_count": null,
      "metadata": {
        "colab": {
          "base_uri": "https://localhost:8080/"
        },
        "collapsed": true,
        "id": "HkffmlM_YzVh",
        "outputId": "603ed4e2-ffd3-4a7c-8d28-54d4a7513595"
      },
      "outputs": [
        {
          "output_type": "stream",
          "name": "stdout",
          "text": [
            "Reading package lists... Done\n",
            "Building dependency tree... Done\n",
            "Reading state information... Done\n",
            "lilypond is already the newest version (2.22.1-2).\n",
            "0 upgraded, 0 newly installed, 0 to remove and 45 not upgraded.\n",
            "Requirement already satisfied: yt_dlp in /usr/local/lib/python3.10/dist-packages (2024.8.6)\n",
            "Requirement already satisfied: essentia in /usr/local/lib/python3.10/dist-packages (2.1b6.dev1110)\n",
            "Requirement already satisfied: spleeter in /usr/local/lib/python3.10/dist-packages (2.4.0)\n",
            "Requirement already satisfied: pydub in /usr/local/lib/python3.10/dist-packages (0.25.1)\n",
            "Requirement already satisfied: music21 in /usr/local/lib/python3.10/dist-packages (9.1.0)\n",
            "Requirement already satisfied: brotli in /usr/local/lib/python3.10/dist-packages (from yt_dlp) (1.1.0)\n",
            "Requirement already satisfied: certifi in /usr/local/lib/python3.10/dist-packages (from yt_dlp) (2024.7.4)\n",
            "Requirement already satisfied: mutagen in /usr/local/lib/python3.10/dist-packages (from yt_dlp) (1.47.0)\n",
            "Requirement already satisfied: pycryptodomex in /usr/local/lib/python3.10/dist-packages (from yt_dlp) (3.20.0)\n",
            "Requirement already satisfied: requests<3,>=2.32.2 in /usr/local/lib/python3.10/dist-packages (from yt_dlp) (2.32.3)\n",
            "Requirement already satisfied: urllib3<3,>=1.26.17 in /usr/local/lib/python3.10/dist-packages (from yt_dlp) (2.0.7)\n",
            "Requirement already satisfied: websockets>=12.0 in /usr/local/lib/python3.10/dist-packages (from yt_dlp) (12.0)\n",
            "Requirement already satisfied: numpy>=1.8.2 in /usr/local/lib/python3.10/dist-packages (from essentia) (1.26.4)\n",
            "Requirement already satisfied: six in /usr/local/lib/python3.10/dist-packages (from essentia) (1.16.0)\n",
            "Requirement already satisfied: pyyaml in /usr/local/lib/python3.10/dist-packages (from essentia) (6.0.2)\n",
            "Requirement already satisfied: ffmpeg-python<0.3.0,>=0.2.0 in /usr/local/lib/python3.10/dist-packages (from spleeter) (0.2.0)\n",
            "Requirement already satisfied: httpx<0.20.0,>=0.19.0 in /usr/local/lib/python3.10/dist-packages (from httpx[http2]<0.20.0,>=0.19.0->spleeter) (0.19.0)\n",
            "Requirement already satisfied: norbert<0.3.0,>=0.2.1 in /usr/local/lib/python3.10/dist-packages (from spleeter) (0.2.1)\n",
            "Requirement already satisfied: pandas<2.0.0,>=1.3.0 in /usr/local/lib/python3.10/dist-packages (from spleeter) (1.5.3)\n",
            "Requirement already satisfied: tensorflow<2.10.0,>=2.5.0 in /usr/local/lib/python3.10/dist-packages (from spleeter) (2.9.3)\n",
            "Requirement already satisfied: typer<0.4.0,>=0.3.2 in /usr/local/lib/python3.10/dist-packages (from spleeter) (0.3.2)\n",
            "Requirement already satisfied: chardet in /usr/local/lib/python3.10/dist-packages (from music21) (5.2.0)\n",
            "Requirement already satisfied: joblib in /usr/local/lib/python3.10/dist-packages (from music21) (1.4.2)\n",
            "Requirement already satisfied: jsonpickle in /usr/local/lib/python3.10/dist-packages (from music21) (3.2.2)\n",
            "Requirement already satisfied: matplotlib in /usr/local/lib/python3.10/dist-packages (from music21) (3.7.1)\n",
            "Requirement already satisfied: more-itertools in /usr/local/lib/python3.10/dist-packages (from music21) (10.3.0)\n",
            "Requirement already satisfied: webcolors>=1.5 in /usr/local/lib/python3.10/dist-packages (from music21) (24.6.0)\n",
            "Requirement already satisfied: future in /usr/local/lib/python3.10/dist-packages (from ffmpeg-python<0.3.0,>=0.2.0->spleeter) (1.0.0)\n",
            "Requirement already satisfied: charset-normalizer in /usr/local/lib/python3.10/dist-packages (from httpx<0.20.0,>=0.19.0->httpx[http2]<0.20.0,>=0.19.0->spleeter) (3.3.2)\n",
            "Requirement already satisfied: sniffio in /usr/local/lib/python3.10/dist-packages (from httpx<0.20.0,>=0.19.0->httpx[http2]<0.20.0,>=0.19.0->spleeter) (1.3.1)\n",
            "Requirement already satisfied: rfc3986<2,>=1.3 in /usr/local/lib/python3.10/dist-packages (from rfc3986[idna2008]<2,>=1.3->httpx<0.20.0,>=0.19.0->httpx[http2]<0.20.0,>=0.19.0->spleeter) (1.5.0)\n",
            "Requirement already satisfied: httpcore<0.14.0,>=0.13.3 in /usr/local/lib/python3.10/dist-packages (from httpx<0.20.0,>=0.19.0->httpx[http2]<0.20.0,>=0.19.0->spleeter) (0.13.7)\n",
            "Requirement already satisfied: h2<5,>=3 in /usr/local/lib/python3.10/dist-packages (from httpx[http2]<0.20.0,>=0.19.0->spleeter) (4.1.0)\n",
            "Requirement already satisfied: scipy in /usr/local/lib/python3.10/dist-packages (from norbert<0.3.0,>=0.2.1->spleeter) (1.13.1)\n",
            "Requirement already satisfied: python-dateutil>=2.8.1 in /usr/local/lib/python3.10/dist-packages (from pandas<2.0.0,>=1.3.0->spleeter) (2.8.2)\n",
            "Requirement already satisfied: pytz>=2020.1 in /usr/local/lib/python3.10/dist-packages (from pandas<2.0.0,>=1.3.0->spleeter) (2024.1)\n",
            "Requirement already satisfied: idna<4,>=2.5 in /usr/local/lib/python3.10/dist-packages (from requests<3,>=2.32.2->yt_dlp) (3.7)\n",
            "Requirement already satisfied: absl-py>=1.0.0 in /usr/local/lib/python3.10/dist-packages (from tensorflow<2.10.0,>=2.5.0->spleeter) (1.4.0)\n",
            "Requirement already satisfied: astunparse>=1.6.0 in /usr/local/lib/python3.10/dist-packages (from tensorflow<2.10.0,>=2.5.0->spleeter) (1.6.3)\n",
            "Requirement already satisfied: flatbuffers<2,>=1.12 in /usr/local/lib/python3.10/dist-packages (from tensorflow<2.10.0,>=2.5.0->spleeter) (1.12)\n",
            "Requirement already satisfied: gast<=0.4.0,>=0.2.1 in /usr/local/lib/python3.10/dist-packages (from tensorflow<2.10.0,>=2.5.0->spleeter) (0.4.0)\n",
            "Requirement already satisfied: google-pasta>=0.1.1 in /usr/local/lib/python3.10/dist-packages (from tensorflow<2.10.0,>=2.5.0->spleeter) (0.2.0)\n",
            "Requirement already satisfied: grpcio<2.0,>=1.24.3 in /usr/local/lib/python3.10/dist-packages (from tensorflow<2.10.0,>=2.5.0->spleeter) (1.64.1)\n",
            "Requirement already satisfied: h5py>=2.9.0 in /usr/local/lib/python3.10/dist-packages (from tensorflow<2.10.0,>=2.5.0->spleeter) (3.11.0)\n",
            "Requirement already satisfied: keras<2.10.0,>=2.9.0rc0 in /usr/local/lib/python3.10/dist-packages (from tensorflow<2.10.0,>=2.5.0->spleeter) (2.9.0)\n",
            "Requirement already satisfied: keras-preprocessing>=1.1.1 in /usr/local/lib/python3.10/dist-packages (from tensorflow<2.10.0,>=2.5.0->spleeter) (1.1.2)\n",
            "Requirement already satisfied: libclang>=13.0.0 in /usr/local/lib/python3.10/dist-packages (from tensorflow<2.10.0,>=2.5.0->spleeter) (18.1.1)\n",
            "Requirement already satisfied: opt-einsum>=2.3.2 in /usr/local/lib/python3.10/dist-packages (from tensorflow<2.10.0,>=2.5.0->spleeter) (3.3.0)\n",
            "Requirement already satisfied: packaging in /usr/local/lib/python3.10/dist-packages (from tensorflow<2.10.0,>=2.5.0->spleeter) (24.1)\n",
            "Requirement already satisfied: protobuf<3.20,>=3.9.2 in /usr/local/lib/python3.10/dist-packages (from tensorflow<2.10.0,>=2.5.0->spleeter) (3.19.6)\n",
            "Requirement already satisfied: setuptools in /usr/local/lib/python3.10/dist-packages (from tensorflow<2.10.0,>=2.5.0->spleeter) (71.0.4)\n",
            "Requirement already satisfied: tensorboard<2.10,>=2.9 in /usr/local/lib/python3.10/dist-packages (from tensorflow<2.10.0,>=2.5.0->spleeter) (2.9.1)\n",
            "Requirement already satisfied: tensorflow-io-gcs-filesystem>=0.23.1 in /usr/local/lib/python3.10/dist-packages (from tensorflow<2.10.0,>=2.5.0->spleeter) (0.37.1)\n",
            "Requirement already satisfied: tensorflow-estimator<2.10.0,>=2.9.0rc0 in /usr/local/lib/python3.10/dist-packages (from tensorflow<2.10.0,>=2.5.0->spleeter) (2.9.0)\n",
            "Requirement already satisfied: termcolor>=1.1.0 in /usr/local/lib/python3.10/dist-packages (from tensorflow<2.10.0,>=2.5.0->spleeter) (2.4.0)\n",
            "Requirement already satisfied: typing-extensions>=3.6.6 in /usr/local/lib/python3.10/dist-packages (from tensorflow<2.10.0,>=2.5.0->spleeter) (4.12.2)\n",
            "Requirement already satisfied: wrapt>=1.11.0 in /usr/local/lib/python3.10/dist-packages (from tensorflow<2.10.0,>=2.5.0->spleeter) (1.16.0)\n",
            "Requirement already satisfied: click<7.2.0,>=7.1.1 in /usr/local/lib/python3.10/dist-packages (from typer<0.4.0,>=0.3.2->spleeter) (7.1.2)\n",
            "Requirement already satisfied: contourpy>=1.0.1 in /usr/local/lib/python3.10/dist-packages (from matplotlib->music21) (1.2.1)\n",
            "Requirement already satisfied: cycler>=0.10 in /usr/local/lib/python3.10/dist-packages (from matplotlib->music21) (0.12.1)\n",
            "Requirement already satisfied: fonttools>=4.22.0 in /usr/local/lib/python3.10/dist-packages (from matplotlib->music21) (4.53.1)\n",
            "Requirement already satisfied: kiwisolver>=1.0.1 in /usr/local/lib/python3.10/dist-packages (from matplotlib->music21) (1.4.5)\n",
            "Requirement already satisfied: pillow>=6.2.0 in /usr/local/lib/python3.10/dist-packages (from matplotlib->music21) (9.4.0)\n",
            "Requirement already satisfied: pyparsing>=2.3.1 in /usr/local/lib/python3.10/dist-packages (from matplotlib->music21) (3.1.2)\n",
            "Requirement already satisfied: wheel<1.0,>=0.23.0 in /usr/local/lib/python3.10/dist-packages (from astunparse>=1.6.0->tensorflow<2.10.0,>=2.5.0->spleeter) (0.44.0)\n",
            "Requirement already satisfied: hyperframe<7,>=6.0 in /usr/local/lib/python3.10/dist-packages (from h2<5,>=3->httpx[http2]<0.20.0,>=0.19.0->spleeter) (6.0.1)\n",
            "Requirement already satisfied: hpack<5,>=4.0 in /usr/local/lib/python3.10/dist-packages (from h2<5,>=3->httpx[http2]<0.20.0,>=0.19.0->spleeter) (4.0.0)\n",
            "Requirement already satisfied: h11<0.13,>=0.11 in /usr/local/lib/python3.10/dist-packages (from httpcore<0.14.0,>=0.13.3->httpx<0.20.0,>=0.19.0->httpx[http2]<0.20.0,>=0.19.0->spleeter) (0.12.0)\n",
            "Requirement already satisfied: anyio==3.* in /usr/local/lib/python3.10/dist-packages (from httpcore<0.14.0,>=0.13.3->httpx<0.20.0,>=0.19.0->httpx[http2]<0.20.0,>=0.19.0->spleeter) (3.7.1)\n",
            "Requirement already satisfied: exceptiongroup in /usr/local/lib/python3.10/dist-packages (from anyio==3.*->httpcore<0.14.0,>=0.13.3->httpx<0.20.0,>=0.19.0->httpx[http2]<0.20.0,>=0.19.0->spleeter) (1.2.2)\n",
            "Requirement already satisfied: google-auth<3,>=1.6.3 in /usr/local/lib/python3.10/dist-packages (from tensorboard<2.10,>=2.9->tensorflow<2.10.0,>=2.5.0->spleeter) (2.27.0)\n",
            "Requirement already satisfied: google-auth-oauthlib<0.5,>=0.4.1 in /usr/local/lib/python3.10/dist-packages (from tensorboard<2.10,>=2.9->tensorflow<2.10.0,>=2.5.0->spleeter) (0.4.6)\n",
            "Requirement already satisfied: markdown>=2.6.8 in /usr/local/lib/python3.10/dist-packages (from tensorboard<2.10,>=2.9->tensorflow<2.10.0,>=2.5.0->spleeter) (3.6)\n",
            "Requirement already satisfied: tensorboard-data-server<0.7.0,>=0.6.0 in /usr/local/lib/python3.10/dist-packages (from tensorboard<2.10,>=2.9->tensorflow<2.10.0,>=2.5.0->spleeter) (0.6.1)\n",
            "Requirement already satisfied: tensorboard-plugin-wit>=1.6.0 in /usr/local/lib/python3.10/dist-packages (from tensorboard<2.10,>=2.9->tensorflow<2.10.0,>=2.5.0->spleeter) (1.8.1)\n",
            "Requirement already satisfied: werkzeug>=1.0.1 in /usr/local/lib/python3.10/dist-packages (from tensorboard<2.10,>=2.9->tensorflow<2.10.0,>=2.5.0->spleeter) (3.0.3)\n",
            "Requirement already satisfied: cachetools<6.0,>=2.0.0 in /usr/local/lib/python3.10/dist-packages (from google-auth<3,>=1.6.3->tensorboard<2.10,>=2.9->tensorflow<2.10.0,>=2.5.0->spleeter) (5.4.0)\n",
            "Requirement already satisfied: pyasn1-modules>=0.2.1 in /usr/local/lib/python3.10/dist-packages (from google-auth<3,>=1.6.3->tensorboard<2.10,>=2.9->tensorflow<2.10.0,>=2.5.0->spleeter) (0.4.0)\n",
            "Requirement already satisfied: rsa<5,>=3.1.4 in /usr/local/lib/python3.10/dist-packages (from google-auth<3,>=1.6.3->tensorboard<2.10,>=2.9->tensorflow<2.10.0,>=2.5.0->spleeter) (4.9)\n",
            "Requirement already satisfied: requests-oauthlib>=0.7.0 in /usr/local/lib/python3.10/dist-packages (from google-auth-oauthlib<0.5,>=0.4.1->tensorboard<2.10,>=2.9->tensorflow<2.10.0,>=2.5.0->spleeter) (1.3.1)\n",
            "Requirement already satisfied: MarkupSafe>=2.1.1 in /usr/local/lib/python3.10/dist-packages (from werkzeug>=1.0.1->tensorboard<2.10,>=2.9->tensorflow<2.10.0,>=2.5.0->spleeter) (2.1.5)\n",
            "Requirement already satisfied: pyasn1<0.7.0,>=0.4.6 in /usr/local/lib/python3.10/dist-packages (from pyasn1-modules>=0.2.1->google-auth<3,>=1.6.3->tensorboard<2.10,>=2.9->tensorflow<2.10.0,>=2.5.0->spleeter) (0.6.0)\n",
            "Requirement already satisfied: oauthlib>=3.0.0 in /usr/local/lib/python3.10/dist-packages (from requests-oauthlib>=0.7.0->google-auth-oauthlib<0.5,>=0.4.1->tensorboard<2.10,>=2.9->tensorflow<2.10.0,>=2.5.0->spleeter) (3.2.2)\n"
          ]
        }
      ],
      "source": [
        "!apt-get install -y lilypond\n",
        "!pip install yt_dlp essentia spleeter pydub music21"
      ]
    },
    {
      "cell_type": "code",
      "execution_count": null,
      "metadata": {
        "id": "dKiP1yv7gaa0"
      },
      "outputs": [],
      "source": [
        "import yt_dlp\n",
        "import subprocess\n",
        "import os\n",
        "import essentia\n",
        "from essentia.standard import MonoLoader, RhythmExtractor2013\n",
        "from spleeter.separator import Separator\n",
        "import numpy as np\n",
        "import librosa\n",
        "import soundfile as sf\n",
        "from pydub import AudioSegment\n",
        "from music21 import stream, note, chord, tempo, metadata, instrument, environment\n",
        "import torch\n",
        "import torch.nn as nn\n",
        "from torchvision import models\n",
        "import re\n",
        "import torchvision.transforms as transforms\n",
        "import torch.nn.functional as F\n",
        "import shutil"
      ]
    },
    {
      "cell_type": "markdown",
      "metadata": {
        "id": "OesKLaO6Yw6W"
      },
      "source": [
        "# 채보 로직"
      ]
    },
    {
      "cell_type": "code",
      "execution_count": null,
      "metadata": {
        "id": "TIC97gwKJbSS"
      },
      "outputs": [],
      "source": [
        "# EfficientNet 모델 정의\n",
        "class EfficientNetModel(nn.Module):\n",
        "    def __init__(self, num_classes):\n",
        "        super(EfficientNetModel, self).__init__()\n",
        "        self.base_model = models.efficientnet_b3(pretrained=True)\n",
        "        # 첫 번째 Conv2d 레이어의 입력 채널을 1로 변경\n",
        "        self.base_model.features[0][0] = nn.Conv2d(1, 40, kernel_size=(3, 3), stride=(2, 2), bias=False)\n",
        "        self.base_model.classifier[1] = nn.Linear(self.base_model.classifier[1].in_features, num_classes)\n",
        "\n",
        "    def forward(self, x):\n",
        "        return torch.sigmoid(self.base_model(x))"
      ]
    },
    {
      "cell_type": "code",
      "execution_count": null,
      "metadata": {
        "id": "SaugpRDFYKb5"
      },
      "outputs": [],
      "source": [
        "class chaebot:\n",
        "    def __init__(self, mp3_file_path = None, youtube_link = None): # mp3_file: mp3 경로 / youtube_link: youtube 링크 문자열\n",
        "        self.mp3_file_path = mp3_file_path\n",
        "        self.youtube_link = youtube_link\n",
        "        self.bpm = None\n",
        "        self.drum_wav_file_path = None\n",
        "        self.chunked_file_path = None\n",
        "        self.chunk_length_ms = 0\n",
        "        self.predictions = []\n",
        "        self.title = \"my music\"\n",
        "\n",
        "    def save_mp3_file_path(self):  # mp3 파일을 지정된 경로에 저장\n",
        "        # mp3 파일을 지정된 경로에 저장\n",
        "        save_path = \"music.mp3\"\n",
        "        with open(save_path, 'wb') as f:\n",
        "            f.write(self.mp3_file_path)\n",
        "\n",
        "        # mp3 파일 경로 업데이트\n",
        "        self.mp3_file_path = save_path\n",
        "\n",
        "        # 그리고 악보의 title을 미리 지정 (확장자를 제거한 파일 이름만 추출)\n",
        "        self.title = os.path.splitext(self.mp3_file_path)[0][:20]\n",
        "\n",
        "    def save_youtube_link_to_mp3(self): # 유튜브 영상을 mp3 파일로 변환\n",
        "        # yt-dlp를 사용하여 오디오 다운로드\n",
        "        ydl_opts = {\n",
        "            'format': 'bestaudio/best',\n",
        "            'outtmpl': 'output.%(ext)s',\n",
        "        }\n",
        "        with yt_dlp.YoutubeDL(ydl_opts) as ydl:\n",
        "            info_dict = ydl.extract_info(self.youtube_link, download=True)\n",
        "            file_name = ydl.prepare_filename(info_dict)\n",
        "\n",
        "            # 유튜브 동영상 제목 가져오기\n",
        "            video_title = info_dict.get('title', 'unknown_title')\n",
        "\n",
        "            # 제목이 20자 이상이면 20자까지만 저장\n",
        "            self.title = video_title[:20]\n",
        "\n",
        "        # 다운로드된 파일을 mp3로 변환\n",
        "        save_path = 'music.mp3'\n",
        "        subprocess.run(['ffmpeg', '-i', file_name, '-q:a', '0', '-map', 'a', save_path])\n",
        "\n",
        "        # 원본 오디오 파일 삭제\n",
        "        os.remove(file_name)\n",
        "\n",
        "        # mp3 파일 경로 업데이트\n",
        "        self.mp3_file_path = save_path\n",
        "\n",
        "    def extract_bpm(self): # wav의 bpm을 추출합니다\n",
        "        # 오디오 파일 로드\n",
        "        loader = MonoLoader(filename=self.mp3_file_path)\n",
        "        audio = loader()\n",
        "\n",
        "        # bpm 추출 및 저장\n",
        "        rhythm_extractor = RhythmExtractor2013()\n",
        "        bpm, ticks, confidence, estimates, bpmIntervals = rhythm_extractor(audio)\n",
        "        self.bpm = bpm\n",
        "\n",
        "    def transform_wav_to_drum(self):  # wav를 드럼으로 변환\n",
        "        separator = Separator('spleeter:4stems')\n",
        "\n",
        "        # 입력 파일 경로와 출력 디렉토리 설정\n",
        "        input_audio_path = self.mp3_file_path\n",
        "        output_directory = \"./\"\n",
        "\n",
        "        # 파일 분리\n",
        "        separator.separate_to_file(input_audio_path, output_directory)\n",
        "\n",
        "        # 드럼 파일 경로 설정\n",
        "        self.drum_wav_file_path = os.path.join(\"music/\", 'drums.wav')\n",
        "\n",
        "    def cut_drum_intro(self):\n",
        "        # 드럼 트랙 로드\n",
        "        y, sr = librosa.load(self.drum_wav_file_path)\n",
        "\n",
        "        # RMS 값 계산\n",
        "        rms = librosa.feature.rms(y=y)[0]\n",
        "\n",
        "        # RMS 평균의 1.5배를 임계치로 설정\n",
        "        threshold = np.mean(rms) * 1.5\n",
        "\n",
        "        # 임계치를 처음 초과하는 샘플 인덱스 찾기\n",
        "        start_sample = np.argmax(rms > threshold) * 512  # RMS는 512 프레임 간격으로 계산됨\n",
        "\n",
        "        # 음성을 임계치 이전 신호를 잘라내기\n",
        "        y_trimmed = y[start_sample:]\n",
        "\n",
        "        sf.write(self.drum_wav_file_path, y_trimmed, sr)\n",
        "\n",
        "    def cut_wav_to_sixteenth_notes(self):\n",
        "        self.chunk_length_ms = int((60000 / self.bpm) / 4)\n",
        "\n",
        "        self.chunked_file_path = \"chunked_music/\"\n",
        "\n",
        "        if not os.path.exists(self.chunked_file_path):\n",
        "            os.makedirs(self.chunked_file_path)\n",
        "\n",
        "        # 오디오 파일 로드\n",
        "        audio = AudioSegment.from_wav(self.drum_wav_file_path)\n",
        "\n",
        "        # 파일 이름 및 확장자 분리\n",
        "        base_name = os.path.splitext(os.path.basename(self.drum_wav_file_path))[0]\n",
        "\n",
        "        # 오디오 파일 길이\n",
        "        audio_length_ms = len(audio)\n",
        "\n",
        "        # 파일을 나눠서 저장\n",
        "        for i in range(0, audio_length_ms, self.chunk_length_ms):\n",
        "            chunk = audio[i:i+self.chunk_length_ms]\n",
        "            chunk_number = str(i // self.chunk_length_ms).zfill(4)\n",
        "            chunk_name = f\"{base_name}_chunk{chunk_number}.wav\"\n",
        "            chunk_path = os.path.join(self.chunked_file_path, chunk_name)\n",
        "            chunk.export(chunk_path, format=\"wav\")\n",
        "\n",
        "    def predict(self):\n",
        "        model = EfficientNetModel(num_classes=8)\n",
        "        model.load_state_dict(torch.load('best_model.pth', map_location=torch.device('cpu')))\n",
        "        model = model.to(torch.device('cpu'))\n",
        "        model.eval()  # 평가 모드로 전환\n",
        "\n",
        "        files = os.listdir(self.chunked_file_path)\n",
        "\n",
        "        # Transform to resize the input to 256x256\n",
        "        resize_transform = transforms.Resize((256, 256))  # resize to 256x256\n",
        "\n",
        "        for file in files:\n",
        "            if file.endswith('.wav'):\n",
        "                path = os.path.join(self.chunked_file_path, file)\n",
        "\n",
        "                audio, sr = librosa.load(path, sr=None)\n",
        "                stft = librosa.stft(audio, n_fft=2048, hop_length=512)\n",
        "                stft_magnitude, _ = librosa.magphase(stft)\n",
        "                spectrogram_db = librosa.amplitude_to_db(stft_magnitude, ref=np.max)\n",
        "\n",
        "                # Add channel dimension and convert to tensor\n",
        "                spectrogram_db = np.expand_dims(spectrogram_db, axis=0)\n",
        "                spectrogram_db = torch.tensor(spectrogram_db, dtype=torch.float32)\n",
        "\n",
        "                # Apply the resize transform\n",
        "                spectrogram_db = F.interpolate(spectrogram_db.unsqueeze(0), size=(256, 256), mode='bilinear', align_corners=False)\n",
        "                spectrogram_db = spectrogram_db.squeeze(0)\n",
        "\n",
        "                # Add batch dimension and move to CPU\n",
        "                spectrogram_db = spectrogram_db.unsqueeze(0).to(torch.device('cpu'))\n",
        "\n",
        "                with torch.no_grad():\n",
        "                    output = model(spectrogram_db)\n",
        "                    binary_prediction = (output > 0.5).int().cpu().numpy()\n",
        "\n",
        "                self.predictions.append(binary_prediction.tolist())\n",
        "\n",
        "    def remove_non_ascii(self):\n",
        "        self.title =  ''.join(filter(lambda x: ord(x) < 128, self.title))\n",
        "        self.title = self.title.strip()\n",
        "\n",
        "    def make_pdf(self):\n",
        "\n",
        "        drum_lilypond_code = r'''\n",
        "    \\version \"2.22.1\"\n",
        "    \\header {\n",
        "      title = \"''' + self.title + r'''\"\n",
        "    }\n",
        "\n",
        "    \\layout {\n",
        "      \\context {\n",
        "        \\DrumVoice\n",
        "        \\omit Rest\n",
        "      }\n",
        "    }\n",
        "\n",
        "    '''\n",
        "\n",
        "        up = []\n",
        "        down = []\n",
        "\n",
        "        index_drum_dict = {\n",
        "            0: \"crashcymbal16\",\n",
        "            1: \"cymr16\",\n",
        "            2: \"snare16\",\n",
        "            3: \"tommh16\",\n",
        "            4: \"tomml16\",\n",
        "            5: \"toml16\",\n",
        "            6: \"bd16\",\n",
        "            7: \"cb16\"\n",
        "        }\n",
        "\n",
        "        # self.predictions의 예측 결과를 기반으로 악보에 음표 추가\n",
        "        for prediction in self.predictions:\n",
        "            prediction  = prediction[0]  # 3중 리스트에서 2중 리스트로 변환\n",
        "            if prediction[6] == 1:\n",
        "                down.append(index_drum_dict[6])\n",
        "            else:\n",
        "                down.append(\"r16\")\n",
        "\n",
        "            up_sum = sum(prediction[0:6]) + prediction[7]\n",
        "\n",
        "            if up_sum == 0:\n",
        "                up.append(\"r16\")\n",
        "            elif up_sum == 1:\n",
        "                for i in range(0,8):\n",
        "                    if i == 6:\n",
        "                        continue\n",
        "                    if prediction[i] == 1:\n",
        "                        up.append(index_drum_dict[i])\n",
        "            else:\n",
        "                overlap_text = \"<\"\n",
        "                for i in range(0,8):\n",
        "                    if i == 6:\n",
        "                        continue\n",
        "                    if prediction[i] == 1:\n",
        "                        overlap_text += index_drum_dict[i][:-2]\n",
        "                        overlap_text += \" \"\n",
        "\n",
        "                overlap_text = overlap_text[:-1]\n",
        "                overlap_text += \">16\"\n",
        "                up.append(overlap_text)\n",
        "\n",
        "        drum_lilypond_code += f'''\n",
        "    up = \\drummode {{\n",
        "      {\" \".join(up)}\n",
        "    }}\n",
        "\n",
        "    down = \\drummode {{\n",
        "      {\" \".join(down)}\n",
        "    }}\n",
        "\n",
        "    '''\n",
        "\n",
        "        # LilyPond 코드의 끝 부분 설정\n",
        "        drum_lilypond_code += r'''\n",
        "\n",
        "    \\score {\n",
        "      \\new DrumStaff <<\n",
        "        \\new DrumVoice = \"up\" {\n",
        "          \\voiceOne\n",
        "          \\tempo 4 = ''' + str(round(self.bpm)) + r'''\n",
        "          \\up\n",
        "        }\n",
        "        \\new DrumVoice = \"down\" { \\voiceTwo \\down }\n",
        "      >>\n",
        "    }\n",
        "    '''\n",
        "\n",
        "        print(drum_lilypond_code)\n",
        "\n",
        "        # LilyPond 파일로 저장\n",
        "        lilypond_filename = \"drum_pattern.ly\"\n",
        "        with open(lilypond_filename, \"w\") as file:\n",
        "            file.write(drum_lilypond_code)\n",
        "\n",
        "        # PDF로 변환\n",
        "        os.system(f\"lilypond {lilypond_filename}\")\n",
        "\n",
        "        # 변환된 PDF 파일 이름을 출력\n",
        "        pdf_filename = lilypond_filename.replace(\".ly\", \".pdf\")\n",
        "\n",
        "    def delete_temp_files(self):\n",
        "        # 삭제할 폴더 목록\n",
        "        folders_to_delete = ['chunked_music', 'music', 'pretrained_models']\n",
        "\n",
        "        # 삭제할 파일 목록\n",
        "        files_to_delete = ['drum_pattern.ly', 'music.mp3']\n",
        "\n",
        "        # 현재 작업 경로\n",
        "        current_path = os.getcwd()\n",
        "\n",
        "        # 폴더와 그 안의 모든 파일 및 폴더 삭제\n",
        "        for folder in folders_to_delete:\n",
        "            folder_path = os.path.join(current_path, folder)\n",
        "            if os.path.exists(folder_path) and os.path.isdir(folder_path):\n",
        "                shutil.rmtree(folder_path)\n",
        "                print(f\"Deleted folder and its contents: {folder_path}\")\n",
        "            else:\n",
        "                print(f\"Folder not found: {folder_path}\")\n",
        "\n",
        "        # 개별 파일 삭제\n",
        "        for file in files_to_delete:\n",
        "            file_path = os.path.join(current_path, file)\n",
        "            if os.path.exists(file_path):\n",
        "                os.remove(file_path)\n",
        "                print(f\"Deleted file: {file_path}\")\n",
        "            else:\n",
        "                print(f\"File not found: {file_path}\")\n",
        "\n",
        "    def main(self): # 모든 실행을 관리\n",
        "        try:\n",
        "            # 1. 받은 파일들을 처리하여 self.mp3_file에 저장한다\n",
        "            if self.youtube_link is not None:\n",
        "                self.save_youtube_link_to_mp3()\n",
        "            elif self.mp3_file is not None:\n",
        "                self.save_mp3_file()\n",
        "            else:\n",
        "                print(\"파일이 둘다 None으로 입력 됨\") # 오류 처리\n",
        "                return None\n",
        "\n",
        "            # 2. bpm을 추출한다\n",
        "            self.extract_bpm()\n",
        "\n",
        "            # 3. mp3 파일에서 드럼 소리만 추출하여 drum.wav로 변환한다\n",
        "            self.transform_wav_to_drum()\n",
        "\n",
        "            # 4. 임계값 처리를 통해 드럼이 없는 전주 부분은 자른다\n",
        "            self.cut_drum_intro()\n",
        "\n",
        "            # 5. bpm 정보를 활용하여 16분음표 길이를 계산한 후, wav를 16분 음표 길이로 모두 자른다\n",
        "            self.cut_wav_to_sixteenth_notes()\n",
        "\n",
        "            # 6. 잘린 파일들을 모두 STFT 변환 시킨 후, 256*256으로 resize 시키고 model에 넣어 예측값을 뽑아낸다\n",
        "            self.predict()\n",
        "\n",
        "            # 7. 예측 결과를 토대로 악보를 그린 후 pdf를 저장한다\n",
        "            self.remove_non_ascii()\n",
        "            self.make_pdf()\n",
        "\n",
        "            # 8. 채보 과정 중에 생성된 temp 파일들은 삭제한다\n",
        "            self.delete_temp_files()\n",
        "\n",
        "        except Exception as e:\n",
        "            print(f\"An error occurred: {e}\")\n",
        "            return None\n",
        "\n",
        "        return None"
      ]
    },
    {
      "cell_type": "markdown",
      "source": [
        "# 실행 이렇게 하면 됨"
      ],
      "metadata": {
        "id": "fMtHHrJqcqN0"
      }
    },
    {
      "cell_type": "code",
      "execution_count": null,
      "metadata": {
        "colab": {
          "base_uri": "https://localhost:8080/"
        },
        "id": "cECgoXF1HQtv",
        "outputId": "4a755535-26d7-43bb-a173-5b2ea255964d"
      },
      "outputs": [
        {
          "output_type": "stream",
          "name": "stdout",
          "text": [
            "[youtube] Extracting URL: https://www.youtube.com/watch?v=cIq3CY02-E8\n",
            "[youtube] cIq3CY02-E8: Downloading webpage\n",
            "[youtube] cIq3CY02-E8: Downloading ios player API JSON\n",
            "[youtube] cIq3CY02-E8: Downloading web creator player API JSON\n",
            "[youtube] cIq3CY02-E8: Downloading m3u8 information\n",
            "[info] cIq3CY02-E8: Downloading 1 format(s): 251\n",
            "[download] Destination: output.webm\n",
            "[download] 100% of    3.36MiB in 00:00:00 at 10.22MiB/s  \n"
          ]
        },
        {
          "output_type": "stream",
          "name": "stderr",
          "text": [
            "/usr/lib/python3.10/multiprocessing/popen_fork.py:66: RuntimeWarning: os.fork() was called. os.fork() is incompatible with multithreaded code, and JAX is multithreaded, so this will likely lead to a deadlock.\n",
            "  self.pid = os.fork()\n"
          ]
        },
        {
          "output_type": "stream",
          "name": "stdout",
          "text": [
            "INFO:spleeter:Downloading model archive https://github.com/deezer/spleeter/releases/download/v1.4.0/4stems.tar.gz\n"
          ]
        },
        {
          "output_type": "stream",
          "name": "stderr",
          "text": [
            "INFO:spleeter:Downloading model archive https://github.com/deezer/spleeter/releases/download/v1.4.0/4stems.tar.gz\n"
          ]
        },
        {
          "output_type": "stream",
          "name": "stdout",
          "text": [
            "INFO:spleeter:Validating archive checksum\n"
          ]
        },
        {
          "output_type": "stream",
          "name": "stderr",
          "text": [
            "INFO:spleeter:Validating archive checksum\n"
          ]
        },
        {
          "output_type": "stream",
          "name": "stdout",
          "text": [
            "INFO:spleeter:Extracting downloaded 4stems archive\n"
          ]
        },
        {
          "output_type": "stream",
          "name": "stderr",
          "text": [
            "INFO:spleeter:Extracting downloaded 4stems archive\n"
          ]
        },
        {
          "output_type": "stream",
          "name": "stdout",
          "text": [
            "INFO:spleeter:4stems model file(s) extracted\n"
          ]
        },
        {
          "output_type": "stream",
          "name": "stderr",
          "text": [
            "INFO:spleeter:4stems model file(s) extracted\n"
          ]
        },
        {
          "output_type": "stream",
          "name": "stdout",
          "text": [
            "INFO:spleeter:File ./music/vocals.wav written succesfully\n"
          ]
        },
        {
          "output_type": "stream",
          "name": "stderr",
          "text": [
            "/usr/lib/python3.10/multiprocessing/popen_fork.py:66: RuntimeWarning: os.fork() was called. os.fork() is incompatible with multithreaded code, and JAX is multithreaded, so this will likely lead to a deadlock.\n",
            "  self.pid = os.fork()\n",
            "INFO:spleeter:File ./music/vocals.wav written succesfully\n"
          ]
        },
        {
          "output_type": "stream",
          "name": "stdout",
          "text": [
            "INFO:spleeter:File ./music/drums.wav written succesfully\n"
          ]
        },
        {
          "output_type": "stream",
          "name": "stderr",
          "text": [
            "INFO:spleeter:File ./music/drums.wav written succesfully\n"
          ]
        },
        {
          "output_type": "stream",
          "name": "stdout",
          "text": [
            "INFO:spleeter:File ./music/bass.wav written succesfully\n"
          ]
        },
        {
          "output_type": "stream",
          "name": "stderr",
          "text": [
            "INFO:spleeter:File ./music/bass.wav written succesfully\n"
          ]
        },
        {
          "output_type": "stream",
          "name": "stdout",
          "text": [
            "INFO:spleeter:File ./music/other.wav written succesfully\n"
          ]
        },
        {
          "output_type": "stream",
          "name": "stderr",
          "text": [
            "INFO:spleeter:File ./music/other.wav written succesfully\n",
            "/usr/local/lib/python3.10/dist-packages/torchvision/models/_utils.py:208: UserWarning: The parameter 'pretrained' is deprecated since 0.13 and may be removed in the future, please use 'weights' instead.\n",
            "  warnings.warn(\n",
            "/usr/local/lib/python3.10/dist-packages/torchvision/models/_utils.py:223: UserWarning: Arguments other than a weight enum or `None` for 'weights' are deprecated since 0.13 and may be removed in the future. The current behavior is equivalent to passing `weights=EfficientNet_B3_Weights.IMAGENET1K_V1`. You can also use `weights=EfficientNet_B3_Weights.DEFAULT` to get the most up-to-date weights.\n",
            "  warnings.warn(msg)\n"
          ]
        },
        {
          "output_type": "stream",
          "name": "stdout",
          "text": [
            "\n",
            "    \\version \"2.22.1\"\n",
            "    \\header {\n",
            "      title = \"(Silica Gel) -\"\n",
            "    }\n",
            "\n",
            "    \\layout {\n",
            "      \\context {\n",
            "        \\DrumVoice\n",
            "        \\omit Rest\n",
            "      }\n",
            "    }\n",
            "\n",
            "    \n",
            "    up = \\drummode {\n",
            "      cb16 cymr16 cymr16 cymr16 crashcymbal16 <cymr cb>16 cymr16 cymr16 cymr16 cymr16 <cymr snare>16 cymr16 cymr16 cymr16 cymr16 cymr16 cymr16 cymr16 cymr16 cymr16 cb16 cymr16 cymr16 <cymr snare>16 cymr16 cymr16 cymr16 cymr16 cb16 cymr16 cymr16 <cymr snare>16 cymr16 cymr16 cymr16 cymr16 cymr16 cymr16 cymr16 <cymr snare>16 cymr16 cymr16 cymr16 cymr16 cb16 cymr16 cymr16 cymr16 <cymr snare>16 cymr16 cymr16 <cymr snare>16 cymr16 cymr16 cymr16 <cymr snare>16 cymr16 cb16 <cymr snare>16 <cymr snare>16 cymr16 cymr16 cymr16 <crashcymbal snare>16 cymr16 cymr16 cymr16 cymr16 cymr16 cymr16 cymr16 cymr16 cymr16 cymr16 cymr16 cymr16 cymr16 cymr16 cymr16 cymr16 <cymr snare>16 cymr16 cymr16 cymr16 <crashcymbal cymr>16 cymr16 cymr16 cymr16 cymr16 cymr16 cymr16 cymr16 cymr16 cymr16 cymr16 cymr16 crashcymbal16 <cymr cb>16 cymr16 cymr16 <crashcymbal snare>16 cymr16 cymr16 <cymr snare>16 cymr16 <cymr cb>16 <cymr snare>16 cymr16 cymr16 cymr16 cymr16 cymr16 <cymr snare>16 cymr16 cymr16 <cymr snare>16 cymr16 cymr16 cymr16 cymr16 cymr16 cymr16 cymr16 cb16 cymr16 <snare cb>16 crashcymbal16 cymr16 cymr16 <cymr snare cb>16 <cymr cb>16 cymr16 <crashcymbal cymr>16 cymr16 cymr16 cymr16 cymr16 cymr16 snare16 cymr16 r16 cymr16 cb16 cymr16 snare16 cb16 cymr16 cymr16 r16 cymr16 cymr16 cymr16 cymr16 cymr16 snare16 cb16 <crashcymbal cymr snare>16 cymr16 cb16 cymr16 cymr16 cymr16 cb16 <cymr cb>16 cymr16 cymr16 cymr16 cymr16 <crashcymbal cymr>16 cymr16 r16 cb16 <cymr snare>16 cymr16 cymr16 cymr16 cymr16 cb16 cb16 cymr16 cymr16 cymr16 cymr16 cymr16 <snare cb>16 cymr16 cymr16 <cymr snare>16 cymr16 cymr16 cymr16 cymr16 cb16 <cymr snare>16 cb16 <cymr cb>16 cymr16 cymr16 cymr16 cb16 cymr16 <cymr snare>16 cymr16 cb16 snare16 cymr16 cb16 <snare cb>16 cymr16 <snare cb>16 cb16 cb16 snare16 <cymr snare>16 cymr16 cymr16 <snare cb>16 <snare cb>16 <cymr snare>16 <cymr snare>16 <cymr snare>16 cymr16 cb16 cymr16 <snare cb>16 <snare cb>16 cb16 cymr16 <cymr snare>16 cymr16 cymr16 cymr16 cymr16 cymr16 <cymr snare>16 <cymr snare>16 <cymr snare>16 cymr16 cymr16 cymr16 <cymr snare>16 cymr16 cymr16 cymr16 <cymr snare>16 cymr16 <cymr cb>16 snare16 cymr16 cymr16 cb16 <cymr snare>16 <cymr snare>16 cymr16 <cymr cb>16 cb16 <cymr snare>16 <cymr snare>16 cymr16 cymr16 <cymr snare>16 <cymr snare>16 cymr16 cymr16 cymr16 cymr16 <cymr snare>16 snare16 cymr16 cymr16 cymr16 cymr16 <cymr snare>16 snare16 <cymr snare>16 cymr16 <cymr snare>16 crashcymbal16 cymr16 cymr16 cb16 cymr16 cymr16 snare16 <cymr snare>16 cymr16 snare16 <cymr snare>16 cymr16 <cymr snare>16 cymr16 cymr16 cymr16 <crashcymbal cymr snare>16 cymr16 snare16 <cymr snare>16 cymr16 <cymr snare>16 snare16 cymr16 cb16 cymr16 cymr16 cymr16 cymr16 <cymr snare>16 cymr16 snare16 crashcymbal16 cymr16 cymr16 snare16 <cymr snare>16 cymr16 <snare cb>16 <cymr snare>16 <cymr snare>16 <cymr snare>16 snare16 <cymr snare>16 cymr16 cymr16 cymr16 cymr16 <crashcymbal cymr>16 cymr16 cymr16 cymr16 cymr16 <cymr snare>16 <cymr snare>16 cymr16 cymr16 cymr16 cymr16 cymr16 cymr16 crashcymbal16 cymr16 cymr16 <crashcymbal snare>16 cymr16 cymr16 <cymr snare>16 cymr16 cb16 <cymr snare>16 cymr16 r16 cymr16 cymr16 <cymr snare>16 cymr16 cymr16 cymr16 cymr16 <crashcymbal cb>16 cymr16 cymr16 r16 cb16 <cymr snare>16 cymr16 cymr16 crashcymbal16 cymr16 cymr16 cymr16 cymr16 cymr16 cymr16 cymr16 cymr16 cymr16 cymr16 <cymr snare>16 cymr16 crashcymbal16 <cymr snare>16 cymr16 crashcymbal16 snare16 cymr16 <cymr snare>16 <cymr snare>16 cymr16 cymr16 cymr16 crashcymbal16 cymr16 cymr16 cymr16 cymr16 <snare cb>16 cymr16 cymr16 <cymr snare>16 cymr16 cymr16 cymr16 cymr16 crashcymbal16 cymr16 cymr16 crashcymbal16 cymr16 cymr16 cymr16 cymr16 <cymr snare>16 cymr16 cymr16 cymr16 cymr16 cymr16 crashcymbal16 cb16 cymr16 cymr16 cymr16 cymr16 cymr16 cymr16 cymr16 cymr16 snare16 cymr16 cymr16 <cymr snare>16 <cymr snare>16 snare16 cymr16 snare16 snare16 cymr16 cymr16 cymr16 cymr16 cymr16 cymr16 cymr16 cymr16 cymr16 cymr16 snare16 <cymr tommh>16 snare16 cymr16 cymr16 cb16 cymr16 cymr16 <cymr snare>16 cymr16 cymr16 cymr16 cymr16 cb16 <cymr snare>16 <cymr snare>16 <cymr snare>16 cymr16 <cymr cb>16 cymr16 <cymr snare>16 cb16 cymr16 cymr16 snare16 cymr16 cymr16 <cymr snare>16 <cymr snare>16 snare16 <cymr snare>16 <cymr snare>16 <cymr snare>16 cymr16 cymr16 cymr16 <cymr snare>16 cymr16 cymr16 cymr16 <cymr snare>16 cymr16 cymr16 cymr16 cymr16 cymr16 cymr16 <cymr snare>16 <cymr snare>16 cymr16 cymr16 cymr16 cymr16 <cymr snare cb>16 cymr16 cymr16 <cymr snare>16 cymr16 cymr16 <cymr snare>16 cymr16 <cymr snare>16 <cymr snare>16 <cymr snare>16 <snare cb>16 cymr16 <cymr snare cb>16 cymr16 cymr16 cymr16 cymr16 cymr16 <cymr snare>16 <cymr snare>16 cymr16 cymr16 cymr16 cymr16 cymr16 cymr16 <cymr snare>16 cymr16 cymr16 cymr16 cymr16 cymr16 cymr16 cymr16 cymr16 cymr16 cymr16 crashcymbal16 <cymr snare>16 cymr16 cymr16 cymr16 <cymr snare>16 cymr16 cymr16 cymr16 cymr16 cymr16 cymr16 cymr16 <cymr snare>16 cymr16 cymr16 <cymr snare>16 cymr16 <cymr snare>16 cymr16 cymr16 <cymr snare>16 crashcymbal16 cymr16 cymr16 cymr16 cymr16 <cymr snare>16 cymr16 cymr16 crashcymbal16 <cymr snare>16 <cymr snare>16 <cymr snare>16 cymr16 cymr16 cymr16 cymr16 cymr16 <cymr cb>16 <cymr cb>16 cymr16 crashcymbal16 cymr16 cymr16 cymr16 crashcymbal16 cymr16 cymr16 cymr16 cymr16 cymr16 <cymr snare>16 cymr16 cymr16 cymr16 cymr16 cymr16 <cymr snare>16 cymr16 cymr16 cymr16 cymr16 cymr16 cymr16 cymr16 cymr16 cymr16 <cymr snare>16 cymr16 <cymr snare cb>16 cymr16 cymr16 cymr16 <cymr snare>16 cymr16 cb16 cymr16 cymr16 cymr16 cymr16 cymr16 cymr16 cymr16 cymr16 cymr16 <cymr cb>16 cymr16 cymr16 cymr16 cymr16 cymr16 cymr16 cymr16 cymr16 cymr16 cymr16 cymr16 cymr16 crashcymbal16 cymr16 <cymr snare>16 <crashcymbal snare>16 cymr16 cymr16 cymr16 <crashcymbal cymr>16 cymr16 cymr16 cymr16 cymr16 cymr16 cymr16 cymr16 cymr16 cymr16 cymr16 cymr16 cymr16 cb16 cymr16 cymr16 crashcymbal16 cymr16 cymr16 cymr16 cymr16 cymr16 cymr16 <cymr snare>16 cymr16 cb16 cymr16 cymr16 <cymr snare>16 cymr16 cymr16 cymr16 cymr16 cymr16 cymr16 cymr16 <cymr snare>16 cymr16 cymr16 cymr16 cymr16 <cymr cb>16 <crashcymbal cymr snare>16 cymr16 <cymr snare>16 cymr16 cymr16 cymr16 <cymr snare>16 cymr16 cymr16 <cymr cb>16 cymr16 snare16 <cymr snare>16 <cymr snare>16 cymr16 cymr16 cymr16 cymr16 cymr16 cymr16 cymr16 cymr16 <cymr cb>16 <crashcymbal cymr>16 cymr16 cb16 cb16 <cymr cb>16 cymr16 cymr16 cb16 cymr16 cymr16 cymr16 cb16 cb16 cb16 <snare cb>16 cymr16 cymr16 cymr16 cymr16 cb16 cymr16 <crashcymbal cymr>16 cymr16 cb16 cb16 cb16 <cymr cb>16 cb16 cb16 cb16 <cymr cb>16 cb16 cb16 cymr16 cymr16 cymr16 cymr16 cymr16 <cymr cb>16 cymr16 <snare cb>16 cymr16 cymr16 <cymr snare>16 <snare cb>16 cymr16 cymr16 cymr16 cymr16 cymr16 cymr16 cymr16 cymr16 cymr16 cymr16 cymr16 cb16 cb16 <cymr cb>16 cb16 cymr16 cymr16 <cymr cb>16 cb16 cb16 cb16 cymr16 <cymr cb>16 cymr16 cb16 <cymr cb>16 <snare cb>16 cymr16 cymr16 cymr16 <cymr cb>16 crashcymbal16 cymr16 <cymr cb>16 cymr16 cb16 cymr16 cymr16 cymr16 cymr16 crashcymbal16 cb16 cymr16 cymr16 cymr16 <crashcymbal cb>16 cymr16 crashcymbal16 cymr16 cymr16 <crashcymbal cymr>16 cymr16 <cymr cb>16 cymr16 cymr16 cymr16 cymr16 cb16 cymr16 snare16 cymr16 cymr16 crashcymbal16 crashcymbal16 cb16 cymr16 cb16 cymr16 cymr16 cymr16 cymr16 cymr16 cb16 cymr16 cymr16 cymr16 cymr16 cymr16 cymr16 cb16 cymr16 cymr16 cymr16 cymr16 cymr16 cymr16 cymr16 crashcymbal16 cymr16 cymr16 cymr16 cymr16 cymr16 cymr16 cymr16 <crashcymbal cymr>16 cymr16 cymr16 cymr16 cymr16 cymr16 cymr16 cymr16 cymr16 cymr16 cymr16 cymr16 cymr16 r16 <cymr snare>16 cymr16 cymr16 cymr16 cymr16 cymr16 <cymr snare>16 cymr16 cymr16 cymr16 cymr16 cymr16 cymr16 cymr16 cymr16 cymr16 cymr16 cymr16 crashcymbal16 cymr16 cymr16 cb16 cymr16 cymr16 cymr16 cb16 cymr16 cymr16 cymr16 cymr16 cymr16 cymr16 cymr16 <cymr snare>16 crashcymbal16 cymr16 crashcymbal16 <crashcymbal cymr>16 cymr16 cymr16 cymr16 cymr16 crashcymbal16 cymr16 cymr16 cymr16 cymr16 cb16 cymr16 cymr16 crashcymbal16 cymr16 cymr16 cymr16 cymr16 cymr16 cymr16 cymr16 crashcymbal16 cymr16 cymr16 cymr16 cymr16 cymr16 cymr16 cymr16 crashcymbal16 cymr16 cymr16 cymr16 crashcymbal16 cymr16 cymr16 cymr16 <crashcymbal snare>16 cymr16 cymr16 crashcymbal16 cymr16 cymr16 crashcymbal16 cymr16 <crashcymbal cymr>16 cymr16 cymr16 cymr16 cymr16 <crashcymbal cymr>16 cymr16 cymr16 <cymr snare>16 cymr16 <crashcymbal snare>16 cymr16 cymr16 cymr16 cymr16 cymr16 snare16 crashcymbal16 cb16 cymr16 cb16 <snare cb>16 cymr16 cymr16 cb16 cymr16 cb16 cymr16 <cymr snare>16 cb16 cymr16 cb16 cb16 cb16 cymr16 cb16 cb16 cymr16 cb16 cb16 cymr16 cymr16 <snare cb>16 <snare cb>16 cymr16 crashcymbal16 cb16 <snare cb>16 <snare cb>16 <snare cb>16 <snare cb>16 <snare cb>16 cb16 <cymr snare>16 cymr16 cb16 cb16 cymr16 cymr16 <snare cb>16 cymr16 <cymr snare>16 <cymr snare>16 snare16 snare16 snare16 <snare cb>16 <snare cb>16 cb16 cymr16 cb16 cb16 cb16 cb16 cb16 cb16 <cymr snare>16 <snare cb>16 <cymr snare>16 <snare cb>16 <snare cb>16 cb16 cymr16 <cymr snare cb>16 <snare cb>16 cymr16 cymr16 cymr16 cymr16 cymr16 cymr16 cymr16 crashcymbal16 cymr16 cymr16 cymr16 cymr16 cymr16 cymr16 cymr16 <cymr snare>16 cymr16 cymr16 cymr16 cymr16 cymr16 cymr16 cymr16 crashcymbal16 cymr16 cymr16 cymr16 <cymr snare>16 cymr16 cymr16 cymr16 <cymr snare>16 cymr16 cymr16 cymr16 cymr16 cymr16 cymr16 cymr16 <cymr snare>16 crashcymbal16 cymr16 cymr16 cymr16 snare16 snare16 snare16 snare16 snare16 <snare cb>16 cymr16 snare16 cymr16 <cymr snare>16 cymr16 cymr16 cymr16 <cymr snare>16 <cymr snare>16 <cymr snare>16 cymr16 cymr16 cymr16 <cymr snare>16 cymr16 cymr16 cymr16 cymr16 cymr16 cymr16 cymr16 <cymr snare>16 cymr16 cymr16 cymr16 cymr16 cb16 cymr16 cymr16 cymr16 r16 <cymr cb>16 cymr16 cymr16 crashcymbal16 cymr16 cymr16 <crashcymbal cymr>16 cymr16 cymr16 cymr16 cymr16 <cymr snare>16 cymr16 cymr16 cymr16 cymr16 cymr16 cymr16 cymr16 cymr16 cymr16 cymr16 cymr16 cymr16 cb16 cymr16 cymr16 cb16 cymr16 cymr16 cymr16 <cymr snare>16 cymr16 cymr16 <cymr snare>16 cb16 cymr16 <cymr snare>16 cymr16 cymr16 crashcymbal16 cymr16 cymr16 cymr16 <cymr snare>16 <cymr snare>16 crashcymbal16 cymr16 cymr16 cymr16 cymr16 cymr16 cymr16 cymr16 cymr16 cymr16 cymr16 cymr16 cymr16 cb16 cymr16 cymr16 cymr16 cymr16 cymr16 cymr16 cymr16 crashcymbal16 cymr16 cymr16 <cymr snare>16 cymr16 cymr16 cymr16 <cymr snare>16 cb16 cymr16 cymr16 cymr16 cymr16 cymr16 cymr16 cymr16 crashcymbal16 cymr16 cymr16 cb16 cymr16 cymr16 cymr16 <cymr snare>16 crashcymbal16 cymr16 cymr16 cymr16 cymr16 <cymr snare>16 crashcymbal16 cymr16 <cymr snare>16 <cymr snare>16 cymr16 cymr16 <cymr snare>16 cymr16 cymr16 cymr16 cymr16 <snare cb>16 cymr16 cb16 cymr16 cymr16 cymr16 cymr16 cymr16 cymr16 cymr16 cymr16 cymr16 cymr16 cymr16 cymr16 <cymr snare>16 cymr16 cymr16 cymr16 cymr16 cymr16 cymr16 cymr16 <cymr snare>16 cymr16 cymr16 cymr16 cymr16 cymr16 cymr16 cymr16 <cymr snare>16 cymr16 cymr16 cymr16 <crashcymbal cymr snare>16 cymr16 cymr16 cymr16 cymr16 cymr16 cymr16 <cymr snare>16 cymr16 cymr16 cymr16 cymr16 cymr16 <cymr snare>16 cymr16 cymr16 <cymr snare>16 cymr16 cymr16 cymr16 cymr16 cymr16 cymr16 <cymr snare>16 cymr16 cymr16 cymr16 <cymr snare>16 <cymr snare>16 cymr16 <cymr snare>16 cymr16 cymr16 cymr16 cymr16 cymr16 cymr16 cymr16 cymr16 cymr16 cymr16 cymr16 cymr16 cymr16 <cymr snare>16 cymr16 cymr16 cymr16 cymr16 cymr16 cymr16 cymr16 cymr16 cymr16 cymr16 cymr16 cymr16 cymr16 cymr16 cymr16 cymr16 cymr16 cymr16 cymr16 <cymr snare>16 cymr16 cymr16 cymr16 cymr16 cymr16 cymr16 cymr16 cymr16 cymr16 <cymr snare>16 cymr16 <cymr snare>16 cymr16 cymr16 cymr16 <cymr snare>16 cymr16 cymr16 cymr16 cymr16 cymr16 cymr16 snare16 <cymr snare>16 <snare cb>16 cymr16 <cymr snare>16 cymr16 cymr16 <cymr snare>16 cymr16 cymr16 cymr16 snare16 toml16 <cymr tommh>16 <cymr tommh>16 <cymr tommh>16 <cymr tommh>16 <cymr tommh>16 <cymr tommh>16 <cymr tommh>16 <cymr tommh>16 <cymr tommh>16 <cymr tommh>16 <cymr tommh>16 <cymr tommh>16 <cymr tommh>16 <cymr tommh>16 <cymr tommh>16 <cymr tommh>16 <cymr tommh>16 <cymr tommh>16\n",
            "    }\n",
            "\n",
            "    down = \\drummode {\n",
            "      bd16 r16 r16 r16 r16 r16 r16 r16 r16 bd16 r16 bd16 r16 r16 r16 bd16 r16 r16 r16 bd16 r16 r16 r16 r16 r16 bd16 r16 r16 r16 r16 r16 r16 r16 r16 r16 r16 r16 r16 r16 r16 bd16 r16 r16 r16 r16 r16 r16 r16 r16 bd16 r16 r16 r16 r16 r16 r16 bd16 bd16 r16 r16 r16 r16 r16 r16 r16 r16 r16 r16 r16 r16 r16 r16 r16 r16 r16 r16 r16 r16 r16 r16 r16 r16 r16 r16 bd16 r16 r16 r16 r16 r16 bd16 r16 r16 r16 r16 r16 bd16 r16 r16 r16 r16 r16 r16 r16 r16 r16 r16 r16 bd16 r16 r16 r16 r16 r16 r16 r16 bd16 r16 bd16 r16 r16 bd16 r16 bd16 bd16 r16 bd16 r16 bd16 r16 r16 r16 bd16 r16 r16 r16 r16 r16 r16 r16 bd16 r16 r16 r16 r16 r16 r16 r16 r16 r16 r16 bd16 r16 r16 r16 r16 r16 r16 r16 r16 bd16 r16 r16 r16 bd16 r16 r16 bd16 bd16 r16 bd16 r16 r16 r16 r16 r16 r16 r16 r16 r16 bd16 r16 r16 bd16 r16 r16 bd16 r16 bd16 r16 r16 r16 r16 r16 r16 r16 bd16 r16 r16 r16 r16 r16 bd16 r16 bd16 r16 r16 r16 r16 r16 r16 r16 r16 r16 r16 bd16 r16 r16 r16 r16 r16 r16 r16 r16 r16 r16 r16 r16 r16 r16 r16 bd16 bd16 r16 r16 r16 r16 r16 r16 r16 r16 r16 r16 bd16 r16 r16 r16 r16 bd16 r16 r16 r16 r16 r16 r16 r16 r16 r16 r16 r16 r16 r16 r16 r16 r16 r16 r16 r16 r16 r16 r16 r16 r16 r16 r16 r16 r16 r16 r16 r16 r16 r16 r16 r16 r16 bd16 r16 r16 r16 r16 bd16 r16 r16 r16 r16 r16 r16 r16 r16 r16 r16 r16 r16 r16 bd16 r16 r16 r16 r16 r16 r16 r16 r16 r16 r16 r16 r16 r16 r16 r16 r16 r16 r16 r16 r16 r16 r16 r16 bd16 r16 r16 r16 r16 r16 r16 r16 r16 r16 bd16 r16 r16 r16 r16 bd16 r16 bd16 r16 r16 bd16 r16 r16 r16 r16 r16 bd16 r16 bd16 r16 r16 bd16 bd16 r16 r16 r16 r16 r16 r16 r16 r16 bd16 r16 r16 r16 r16 r16 r16 r16 bd16 r16 r16 bd16 r16 r16 r16 r16 r16 r16 r16 bd16 bd16 r16 r16 bd16 bd16 r16 r16 bd16 r16 r16 r16 r16 bd16 bd16 r16 bd16 bd16 r16 r16 bd16 r16 r16 bd16 r16 r16 r16 r16 r16 bd16 r16 r16 r16 bd16 r16 r16 bd16 r16 r16 r16 bd16 r16 r16 r16 r16 r16 r16 r16 r16 bd16 r16 r16 r16 r16 r16 r16 r16 r16 r16 r16 r16 r16 r16 r16 r16 r16 r16 r16 r16 r16 r16 r16 r16 r16 r16 r16 r16 r16 r16 r16 r16 r16 r16 r16 r16 r16 r16 bd16 r16 r16 r16 r16 r16 r16 r16 bd16 r16 r16 r16 r16 bd16 r16 r16 r16 r16 r16 r16 r16 r16 r16 r16 r16 r16 r16 r16 r16 r16 r16 r16 r16 r16 r16 r16 r16 r16 r16 r16 r16 r16 r16 r16 r16 r16 r16 r16 bd16 r16 r16 r16 r16 r16 r16 bd16 r16 r16 bd16 r16 r16 bd16 r16 bd16 r16 r16 r16 r16 r16 r16 r16 r16 r16 r16 r16 r16 r16 r16 r16 r16 r16 r16 r16 r16 r16 r16 r16 bd16 r16 r16 r16 r16 r16 r16 r16 r16 r16 r16 r16 r16 r16 r16 r16 bd16 bd16 r16 r16 r16 r16 r16 r16 r16 r16 r16 bd16 r16 r16 r16 r16 r16 r16 r16 r16 r16 r16 r16 r16 bd16 r16 r16 bd16 r16 r16 r16 r16 r16 r16 r16 r16 bd16 r16 r16 r16 r16 r16 r16 r16 bd16 r16 r16 bd16 r16 r16 r16 r16 r16 r16 r16 r16 r16 bd16 r16 r16 r16 r16 r16 bd16 r16 bd16 r16 r16 bd16 r16 r16 bd16 bd16 r16 bd16 r16 bd16 bd16 bd16 bd16 bd16 bd16 r16 r16 r16 r16 r16 r16 r16 r16 r16 r16 r16 r16 r16 bd16 r16 bd16 r16 r16 r16 r16 r16 bd16 r16 r16 r16 r16 r16 r16 r16 r16 r16 r16 r16 r16 bd16 r16 r16 r16 r16 r16 r16 r16 r16 r16 r16 r16 r16 r16 r16 r16 r16 r16 r16 r16 r16 r16 r16 r16 r16 r16 r16 r16 r16 r16 r16 r16 r16 r16 r16 r16 r16 r16 r16 r16 r16 r16 r16 r16 r16 r16 r16 r16 r16 r16 r16 r16 r16 r16 r16 r16 r16 r16 r16 r16 r16 r16 r16 r16 r16 r16 r16 r16 r16 r16 r16 r16 r16 r16 r16 r16 r16 r16 r16 r16 r16 r16 r16 r16 r16 r16 r16 r16 r16 r16 r16 r16 r16 r16 r16 r16 r16 r16 r16 r16 r16 r16 r16 r16 r16 r16 r16 r16 r16 r16 r16 r16 r16 bd16 bd16 r16 r16 r16 bd16 r16 bd16 r16 bd16 r16 r16 r16 r16 r16 r16 bd16 r16 r16 r16 bd16 r16 r16 r16 r16 r16 r16 bd16 r16 r16 r16 r16 r16 r16 r16 r16 r16 r16 r16 bd16 r16 r16 r16 r16 r16 r16 r16 bd16 r16 r16 r16 r16 r16 bd16 r16 bd16 r16 bd16 bd16 bd16 r16 r16 r16 bd16 r16 r16 r16 r16 r16 bd16 r16 bd16 r16 bd16 r16 bd16 r16 bd16 r16 r16 r16 r16 r16 bd16 r16 r16 r16 r16 r16 bd16 r16 r16 r16 r16 r16 r16 r16 r16 r16 r16 r16 r16 r16 r16 bd16 r16 r16 r16 bd16 r16 r16 r16 r16 r16 r16 bd16 r16 r16 r16 bd16 bd16 r16 r16 r16 r16 r16 r16 r16 r16 r16 r16 bd16 r16 r16 bd16 r16 bd16 r16 r16 r16 r16 bd16 r16 r16 r16 r16 r16 bd16 r16 bd16 r16 r16 r16 bd16 r16 r16 r16 r16 r16 r16 r16 r16 bd16 bd16 r16 r16 r16 r16 r16 r16 r16 r16 r16 r16 r16 r16 r16 r16 r16 r16 r16 r16 r16 r16 r16 r16 r16 r16 r16 r16 r16 r16 r16 r16 bd16 r16 r16 r16 r16 r16 r16 r16 r16 r16 r16 r16 r16 r16 r16 r16 r16 r16 r16 r16 r16 r16 r16 r16 r16 r16 r16 r16 r16 r16 r16 r16 r16 r16 bd16 r16 r16 r16 r16 r16 r16 r16 r16 r16 r16 r16 r16 r16 r16 r16 bd16 r16 r16 r16 r16 r16 r16 r16 r16 r16 r16 r16 r16 bd16 bd16 bd16 r16 bd16 bd16 bd16 r16 bd16 r16 r16 r16 bd16 r16 r16 r16 bd16 r16 bd16 bd16 r16 r16 r16 r16 r16 r16 r16 r16 r16 r16 r16 r16 r16 r16 r16 r16 r16 bd16 r16 bd16 r16 r16 r16 bd16 bd16 bd16 r16 r16 r16 r16 r16 r16 r16 bd16 r16 bd16 r16 r16 r16 r16 r16 bd16 r16 r16 r16 r16 r16 r16 r16 r16 r16 r16 r16 r16 r16 r16 r16 bd16 bd16 r16 r16 r16 r16 r16 r16 r16 r16 r16 r16 r16 r16 r16 r16 r16 r16 r16 r16 r16 r16 r16 r16 bd16 bd16 r16 r16 r16 r16 r16 bd16 r16 r16 r16 r16 r16 r16 r16 r16 r16 r16 r16 r16 r16 r16 r16 r16 r16 r16 r16 bd16 r16 r16 r16 r16 r16 bd16 r16 bd16 r16 r16 r16 r16 r16 bd16 r16 r16 r16 bd16 bd16 r16 r16 r16 r16 r16 r16 bd16 bd16 bd16 r16 r16 r16 r16 r16 r16 r16 r16 r16 r16 r16 r16 r16 r16 r16 r16 r16 r16 r16 r16 r16 bd16 bd16 r16 r16 r16 r16 r16 r16 r16 r16 r16 r16 r16 r16 bd16 r16 r16 r16 bd16 r16 r16 r16 bd16 r16 r16 r16 r16 r16 r16 r16 r16 r16 r16 r16 r16 bd16 r16 r16 r16 r16 r16 r16 bd16 r16 r16 r16 bd16 r16 r16 r16 r16 r16 r16 r16 r16 r16 r16 r16 r16 r16 r16 r16 r16 r16 r16 r16 r16 r16 r16 r16 bd16 r16 r16 r16 r16 r16 r16 r16 r16 r16 r16 bd16 r16 bd16 r16 r16 r16 r16 r16 r16 r16 bd16 r16 r16 bd16 r16 r16 r16 r16 r16 bd16 r16 r16 r16 r16 bd16 bd16 bd16 r16 r16 r16 r16 r16 r16 r16 r16 r16 r16 r16 r16 r16 r16 r16 r16 r16 r16 r16 r16\n",
            "    }\n",
            "\n",
            "    \n",
            "\n",
            "    \\score {\n",
            "      \\new DrumStaff <<\n",
            "        \\new DrumVoice = \"up\" { \n",
            "          \\voiceOne \n",
            "          \\tempo 4 = 94\n",
            "          \\up \n",
            "        }\n",
            "        \\new DrumVoice = \"down\" { \\voiceTwo \\down }\n",
            "      >>\n",
            "    }\n",
            "    \n",
            "An error occurred: chaebot.delete_temp_files() takes 0 positional arguments but 1 was given\n"
          ]
        }
      ],
      "source": [
        "# youtube 링크를 받았다면\n",
        "c = chaebot(youtube_link=\"https://www.youtube.com/watch?v=cIq3CY02-E8\")\n",
        "c.main()\n",
        "\n",
        "# mp3를 받았다면\n",
        "c = chaebot(mp3_file_path=\"my_music.mp3\")\n",
        "c.main()"
      ]
    },
    {
      "cell_type": "code",
      "source": [],
      "metadata": {
        "id": "GgVUpk_PcZea"
      },
      "execution_count": null,
      "outputs": []
    }
  ],
  "metadata": {
    "colab": {
      "provenance": []
    },
    "kernelspec": {
      "display_name": "Python 3",
      "name": "python3"
    },
    "language_info": {
      "name": "python"
    }
  },
  "nbformat": 4,
  "nbformat_minor": 0
}